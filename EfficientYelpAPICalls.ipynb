{
 "cells": [
  {
   "cell_type": "code",
   "execution_count": 1,
   "id": "688f2e64-9747-4272-bdf0-57a336b2bdc7",
   "metadata": {},
   "outputs": [
    {
     "name": "stdout",
     "output_type": "stream",
     "text": [
      "Requirement already satisfied: tqdm in c:\\users\\owner\\anaconda3\\envs\\dojo-env\\lib\\site-packages (4.65.0)\n",
      "Requirement already satisfied: colorama in c:\\users\\owner\\anaconda3\\envs\\dojo-env\\lib\\site-packages (from tqdm) (0.4.6)\n",
      "Note: you may need to restart the kernel to use updated packages.\n"
     ]
    }
   ],
   "source": [
    "pip install tqdm\n"
   ]
  },
  {
   "cell_type": "code",
   "execution_count": 2,
   "id": "c1448219-4c1c-4377-9f4c-841c0a649e54",
   "metadata": {},
   "outputs": [],
   "source": [
    "# Standard Imports\n",
    "import numpy as np\n",
    "import pandas as pd\n",
    "import matplotlib.pyplot as plt\n",
    "import seaborn as sns\n",
    "# Additional Imports\n",
    "import os, json, math, time\n",
    "from yelpapi import YelpAPI\n",
    "from tqdm.notebook import tqdm_notebook\n",
    "\n"
   ]
  },
  {
   "cell_type": "code",
   "execution_count": 3,
   "id": "74a0662c-7589-4fda-8392-abc83b129fc7",
   "metadata": {},
   "outputs": [
    {
     "data": {
      "text/plain": [
       "dict_keys(['client-id', 'api-key'])"
      ]
     },
     "execution_count": 3,
     "metadata": {},
     "output_type": "execute_result"
    }
   ],
   "source": [
    "#Open yelp credential file\n",
    "with open('/Users/OWNER/.secret/yelp_api.json') as f:\n",
    "    login = json.load(f)\n",
    "login.keys()\n",
    "\n"
   ]
  },
  {
   "cell_type": "code",
   "execution_count": 4,
   "id": "6a5261f5-cb2f-4cbe-bb59-69fb2563492c",
   "metadata": {},
   "outputs": [
    {
     "data": {
      "text/plain": [
       "<yelpapi.yelpapi.YelpAPI at 0x2e181182f80>"
      ]
     },
     "execution_count": 4,
     "metadata": {},
     "output_type": "execute_result"
    }
   ],
   "source": [
    "# import the YelpAPI Class\n",
    "from yelpapi import YelpAPI\n",
    "# Create an instance with your key\n",
    "yelp_api = YelpAPI(login['api-key'], timeout_s=5.0)\n",
    "yelp_api\n"
   ]
  },
  {
   "cell_type": "code",
   "execution_count": 5,
   "id": "9c32f32b-4817-4e49-8a44-c4f74ed8eae4",
   "metadata": {},
   "outputs": [],
   "source": [
    "# set our API call parameters \n",
    "LOCATION = 'Cleveland, OH'\n",
    "TERM = 'Thai'\n"
   ]
  },
  {
   "cell_type": "code",
   "execution_count": 6,
   "id": "c5bbc9fc-fc3d-4ebb-9e85-04fdd5e92613",
   "metadata": {},
   "outputs": [
    {
     "data": {
      "text/plain": [
       "'Data/results_in_progress_CLE_Thai.json'"
      ]
     },
     "execution_count": 6,
     "metadata": {},
     "output_type": "execute_result"
    }
   ],
   "source": [
    "# Specifying JSON_FILE filename (can include a folder)\n",
    "# include the search terms in the filename\n",
    "JSON_FILE = \"Data/results_in_progress_CLE_Thai.json\"\n",
    "JSON_FILE\n",
    "\n"
   ]
  },
  {
   "cell_type": "code",
   "execution_count": 7,
   "id": "b3d2dd4d-031d-40eb-b3d7-977a6f8afb34",
   "metadata": {},
   "outputs": [],
   "source": [
    "def create_json_file(JSON_FILE,  delete_if_exists=False):\n",
    "    \n",
    "    ## Check if JSON_FILE exists\n",
    "    file_exists = os.path.isfile(JSON_FILE)\n",
    "    \n",
    "    ## If it DOES exist:\n",
    "    if file_exists == True:\n",
    "        \n",
    "        ## Check if user wants to delete if exists\n",
    "        if delete_if_exists==True:\n",
    "            \n",
    "            print(f\"[!] {JSON_FILE} already exists. Deleting previous file...\")\n",
    "            ## delete file and confirm it no longer exits.\n",
    "            os.remove(JSON_FILE)\n",
    "            ## Recursive call to function after old file deleted\n",
    "            create_json_file(JSON_FILE,delete_if_exists=False)\n",
    "        else:\n",
    "            print(f\"[i] {JSON_FILE} already exists.\")            \n",
    "            \n",
    "            \n",
    "    ## If it does NOT exist:\n",
    "    else:\n",
    "        \n",
    "        ## INFORM USER AND SAVE EMPTY LIST\n",
    "        print(f\"[i] {JSON_FILE} not found. Saving empty list to new file.\")\n",
    "        \n",
    "        ## CREATE ANY NEEDED FOLDERS\n",
    "        # Get the Folder Name only\n",
    "        folder = os.path.dirname(JSON_FILE)\n",
    "        \n",
    "        ## If JSON_FILE included a folder:\n",
    "        if len(folder)>0:\n",
    "            # create the folder\n",
    "            os.makedirs(folder,exist_ok=True)\n",
    "        ## Save empty list to start the json file\n",
    "        with open(JSON_FILE,'w') as f:\n",
    "            json.dump([],f)  \n",
    "\n"
   ]
  },
  {
   "cell_type": "code",
   "execution_count": 8,
   "id": "fba81e2f-a075-4800-8d62-51c232958907",
   "metadata": {},
   "outputs": [
    {
     "name": "stdout",
     "output_type": "stream",
     "text": [
      "[!] Data/results_in_progress_CLE_Thai.json already exists. Deleting previous file...\n",
      "[i] Data/results_in_progress_CLE_Thai.json not found. Saving empty list to new file.\n",
      "- 0 previous results found.\n"
     ]
    },
    {
     "data": {
      "text/plain": [
       "11"
      ]
     },
     "execution_count": 8,
     "metadata": {},
     "output_type": "execute_result"
    }
   ],
   "source": [
    "## Create a new empty json file (exist the previous if it exists)\n",
    "create_json_file(JSON_FILE, delete_if_exists=True)\n",
    "## Load previous results and use len of results for offset\n",
    "with open(JSON_FILE,'r') as f:\n",
    "    previous_results = json.load(f)\n",
    "    \n",
    "## set offset based on previous results\n",
    "n_results = len(previous_results)\n",
    "print(f'- {n_results} previous results found.')\n",
    "# use our yelp_api variable's search_query method to perform our API call\n",
    "results = yelp_api.search_query(location=LOCATION,\n",
    "                                term=TERM,\n",
    "                               offset=n_results)\n",
    "## How many results total?\n",
    "total_results = results['total']\n",
    "## How many did we get the details for?\n",
    "results_per_page = len(results['businesses'])\n",
    "# Use math.ceil to round up for the total number of pages of results.\n",
    "n_pages = math.ceil((results['total']-n_results)/ results_per_page)\n",
    "n_pages\n",
    "\n"
   ]
  },
  {
   "cell_type": "code",
   "execution_count": 9,
   "id": "52740fc9-44e0-47ec-802b-714cf93a330e",
   "metadata": {},
   "outputs": [
    {
     "name": "stdout",
     "output_type": "stream",
     "text": [
      "- 0 previous results found.\n"
     ]
    }
   ],
   "source": [
    "## Load previous results and use len of results for offset\n",
    "with open(JSON_FILE,'r') as f:\n",
    "    previous_results = json.load(f)\n",
    "    \n",
    "## set offset based on previous results\n",
    "n_results = len(previous_results)\n",
    "print(f'- {n_results} previous results found.')\n",
    "\n"
   ]
  },
  {
   "cell_type": "code",
   "execution_count": 10,
   "id": "da655462-90a6-48a0-9aa8-b94efd6cddd7",
   "metadata": {},
   "outputs": [
    {
     "data": {
      "text/plain": [
       "dict_keys(['businesses', 'total', 'region'])"
      ]
     },
     "execution_count": 10,
     "metadata": {},
     "output_type": "execute_result"
    }
   ],
   "source": [
    "# use our yelp_api variable's search_query method to perform our API call\n",
    "results = yelp_api.search_query(location=LOCATION,\n",
    "                                term=TERM,\n",
    "                               offset=n_results)\n",
    "results.keys()\n",
    "\n"
   ]
  },
  {
   "cell_type": "code",
   "execution_count": 11,
   "id": "77795102-2204-4c5d-8e29-f0e54a899e64",
   "metadata": {},
   "outputs": [
    {
     "data": {
      "text/plain": [
       "217"
      ]
     },
     "execution_count": 11,
     "metadata": {},
     "output_type": "execute_result"
    }
   ],
   "source": [
    "## How many results total?\n",
    "total_results = results['total']\n",
    "total_results\n",
    "\n"
   ]
  },
  {
   "cell_type": "code",
   "execution_count": 12,
   "id": "5833f62b-e48d-4c65-8c48-cc9ab513c20f",
   "metadata": {},
   "outputs": [
    {
     "data": {
      "text/plain": [
       "20"
      ]
     },
     "execution_count": 12,
     "metadata": {},
     "output_type": "execute_result"
    }
   ],
   "source": [
    "## How many did we get the details for?\n",
    "results_per_page = len(results['businesses'])\n",
    "results_per_page\n",
    "\n"
   ]
  },
  {
   "cell_type": "code",
   "execution_count": 13,
   "id": "283e18cd-0fb6-4eb5-b23a-d20532b161c2",
   "metadata": {},
   "outputs": [
    {
     "data": {
      "text/plain": [
       "11"
      ]
     },
     "execution_count": 13,
     "metadata": {},
     "output_type": "execute_result"
    }
   ],
   "source": [
    "# Use math.ceil to round up for the total number of pages of results.\n",
    "n_pages = math.ceil((results['total']-n_results)/ results_per_page)\n",
    "n_pages\n",
    "\n"
   ]
  },
  {
   "cell_type": "code",
   "execution_count": 14,
   "id": "7408c762-e04a-405a-9903-59022f448ec5",
   "metadata": {},
   "outputs": [],
   "source": [
    "# join new results with old list with extend and save to file\n",
    "previous_results.extend(results['businesses'])  \n",
    "with open(JSON_FILE,'w') as f:\n",
    "     json.dump(previous_results,f)\n"
   ]
  },
  {
   "cell_type": "code",
   "execution_count": 17,
   "id": "ec606c5e-f3ce-4edb-bf7b-c6fc974f6e74",
   "metadata": {},
   "outputs": [
    {
     "data": {
      "application/vnd.jupyter.widget-view+json": {
       "model_id": "aa79406f6dce4cd8bce4663c60bfdd90",
       "version_major": 2,
       "version_minor": 0
      },
      "text/plain": [
       "  0%|          | 0/11 [00:00<?, ?it/s]"
      ]
     },
     "metadata": {},
     "output_type": "display_data"
    }
   ],
   "source": [
    "for i in tqdm_notebook( range(1,n_pages+1)):\n",
    "    \n",
    "    ## Read in results in progress file and check the length\n",
    "    with open(JSON_FILE, 'r') as f:\n",
    "        previous_results = json.load(f)\n",
    "    ## save number of results for to use as offset\n",
    "    n_results = len(previous_results)\n",
    "    \n",
    "    if (n_results + results_per_page) > 1000:\n",
    "        print('Exceeded 1000 api calls. Stopping loop.')\n",
    "        break\n",
    "    \n",
    "    ## use n_results as the OFFSET \n",
    "    results = yelp_api.search_query(location=LOCATION,\n",
    "                                    term=TERM, \n",
    "                                    offset=n_results)\n",
    "    \n",
    "    \n",
    "    \n",
    "    ## append new results and save to file\n",
    "    previous_results.extend(results['businesses'])\n",
    "    \n",
    "    # display(previous_results)\n",
    "    with open(JSON_FILE,'w') as f:\n",
    "        json.dump(previous_results,f)\n",
    "    \n",
    "    time.sleep(.2)\n",
    "\n"
   ]
  },
  {
   "cell_type": "code",
   "execution_count": 18,
   "id": "5c27dc6b-d0a9-4484-b246-ae74047ff84a",
   "metadata": {},
   "outputs": [
    {
     "data": {
      "text/html": [
       "<div>\n",
       "<style scoped>\n",
       "    .dataframe tbody tr th:only-of-type {\n",
       "        vertical-align: middle;\n",
       "    }\n",
       "\n",
       "    .dataframe tbody tr th {\n",
       "        vertical-align: top;\n",
       "    }\n",
       "\n",
       "    .dataframe thead th {\n",
       "        text-align: right;\n",
       "    }\n",
       "</style>\n",
       "<table border=\"1\" class=\"dataframe\">\n",
       "  <thead>\n",
       "    <tr style=\"text-align: right;\">\n",
       "      <th></th>\n",
       "      <th>id</th>\n",
       "      <th>alias</th>\n",
       "      <th>name</th>\n",
       "      <th>image_url</th>\n",
       "      <th>is_closed</th>\n",
       "      <th>url</th>\n",
       "      <th>review_count</th>\n",
       "      <th>categories</th>\n",
       "      <th>rating</th>\n",
       "      <th>coordinates</th>\n",
       "      <th>transactions</th>\n",
       "      <th>price</th>\n",
       "      <th>location</th>\n",
       "      <th>phone</th>\n",
       "      <th>display_phone</th>\n",
       "      <th>distance</th>\n",
       "    </tr>\n",
       "  </thead>\n",
       "  <tbody>\n",
       "    <tr>\n",
       "      <th>0</th>\n",
       "      <td>SGZAsdQAp0SjtMDjXWBPYw</td>\n",
       "      <td>banana-blossom-thai-cuisine-cleveland</td>\n",
       "      <td>Banana Blossom Thai Cuisine</td>\n",
       "      <td>https://s3-media4.fl.yelpcdn.com/bphoto/kdMhe3...</td>\n",
       "      <td>False</td>\n",
       "      <td>https://www.yelp.com/biz/banana-blossom-thai-c...</td>\n",
       "      <td>293</td>\n",
       "      <td>[{'alias': 'thai', 'title': 'Thai'}]</td>\n",
       "      <td>4.5</td>\n",
       "      <td>{'latitude': 41.48889, 'longitude': -81.70902}</td>\n",
       "      <td>[delivery]</td>\n",
       "      <td>$$</td>\n",
       "      <td>{'address1': '2800 Clinton Ave', 'address2': '...</td>\n",
       "      <td>+12166965529</td>\n",
       "      <td>(216) 696-5529</td>\n",
       "      <td>3509.349779</td>\n",
       "    </tr>\n",
       "    <tr>\n",
       "      <th>1</th>\n",
       "      <td>228mfqUuGbnCs1kiupJXZw</td>\n",
       "      <td>map-of-thailand-cleveland</td>\n",
       "      <td>Map Of Thailand</td>\n",
       "      <td>https://s3-media2.fl.yelpcdn.com/bphoto/oL_zsp...</td>\n",
       "      <td>False</td>\n",
       "      <td>https://www.yelp.com/biz/map-of-thailand-cleve...</td>\n",
       "      <td>293</td>\n",
       "      <td>[{'alias': 'thai', 'title': 'Thai'}]</td>\n",
       "      <td>4.5</td>\n",
       "      <td>{'latitude': 41.5095, 'longitude': -81.66247}</td>\n",
       "      <td>[delivery]</td>\n",
       "      <td>$$</td>\n",
       "      <td>{'address1': '3710 Payne Ave', 'address2': 'St...</td>\n",
       "      <td>+12163612220</td>\n",
       "      <td>(216) 361-2220</td>\n",
       "      <td>4082.313627</td>\n",
       "    </tr>\n",
       "    <tr>\n",
       "      <th>2</th>\n",
       "      <td>goZV-PlwLJOB8s5O3GruxA</td>\n",
       "      <td>bangkok-thai-cuisine-cleveland-2</td>\n",
       "      <td>Bangkok Thai Cuisine</td>\n",
       "      <td>https://s3-media4.fl.yelpcdn.com/bphoto/QgkuwP...</td>\n",
       "      <td>False</td>\n",
       "      <td>https://www.yelp.com/biz/bangkok-thai-cuisine-...</td>\n",
       "      <td>446</td>\n",
       "      <td>[{'alias': 'thai', 'title': 'Thai'}, {'alias':...</td>\n",
       "      <td>4.5</td>\n",
       "      <td>{'latitude': 41.520317, 'longitude': -81.486442}</td>\n",
       "      <td>[delivery, pickup]</td>\n",
       "      <td>$$</td>\n",
       "      <td>{'address1': '5359 Mayfield Rd', 'address2': '...</td>\n",
       "      <td>+14406841982</td>\n",
       "      <td>(440) 684-1982</td>\n",
       "      <td>16335.738497</td>\n",
       "    </tr>\n",
       "    <tr>\n",
       "      <th>3</th>\n",
       "      <td>2JeciNHrJE_tI-o2tUCu5w</td>\n",
       "      <td>ty-fun-thai-bistro-cleveland</td>\n",
       "      <td>Ty Fun Thai Bistro</td>\n",
       "      <td>https://s3-media1.fl.yelpcdn.com/bphoto/GWlrV3...</td>\n",
       "      <td>False</td>\n",
       "      <td>https://www.yelp.com/biz/ty-fun-thai-bistro-cl...</td>\n",
       "      <td>218</td>\n",
       "      <td>[{'alias': 'thai', 'title': 'Thai'}]</td>\n",
       "      <td>4.0</td>\n",
       "      <td>{'latitude': 41.4794692993164, 'longitude': -8...</td>\n",
       "      <td>[pickup, delivery]</td>\n",
       "      <td>$$</td>\n",
       "      <td>{'address1': '815 Jefferson Ave', 'address2': ...</td>\n",
       "      <td>+12166641000</td>\n",
       "      <td>(216) 664-1000</td>\n",
       "      <td>1193.976211</td>\n",
       "    </tr>\n",
       "    <tr>\n",
       "      <th>4</th>\n",
       "      <td>LsCPb_oYzeB_LkDlDp5Udw</td>\n",
       "      <td>lotus-thai-house-parma</td>\n",
       "      <td>Lotus Thai House</td>\n",
       "      <td>https://s3-media4.fl.yelpcdn.com/bphoto/tzL_b8...</td>\n",
       "      <td>False</td>\n",
       "      <td>https://www.yelp.com/biz/lotus-thai-house-parm...</td>\n",
       "      <td>94</td>\n",
       "      <td>[{'alias': 'thai', 'title': 'Thai'}]</td>\n",
       "      <td>4.5</td>\n",
       "      <td>{'latitude': 41.40358, 'longitude': -81.68989}</td>\n",
       "      <td>[pickup, delivery]</td>\n",
       "      <td>NaN</td>\n",
       "      <td>{'address1': '5869 Broadview Rd', 'address2': ...</td>\n",
       "      <td>+12163719575</td>\n",
       "      <td>(216) 371-9575</td>\n",
       "      <td>7899.057477</td>\n",
       "    </tr>\n",
       "  </tbody>\n",
       "</table>\n",
       "</div>"
      ],
      "text/plain": [
       "                       id                                  alias  \\\n",
       "0  SGZAsdQAp0SjtMDjXWBPYw  banana-blossom-thai-cuisine-cleveland   \n",
       "1  228mfqUuGbnCs1kiupJXZw              map-of-thailand-cleveland   \n",
       "2  goZV-PlwLJOB8s5O3GruxA       bangkok-thai-cuisine-cleveland-2   \n",
       "3  2JeciNHrJE_tI-o2tUCu5w           ty-fun-thai-bistro-cleveland   \n",
       "4  LsCPb_oYzeB_LkDlDp5Udw                 lotus-thai-house-parma   \n",
       "\n",
       "                          name  \\\n",
       "0  Banana Blossom Thai Cuisine   \n",
       "1              Map Of Thailand   \n",
       "2         Bangkok Thai Cuisine   \n",
       "3           Ty Fun Thai Bistro   \n",
       "4             Lotus Thai House   \n",
       "\n",
       "                                           image_url  is_closed  \\\n",
       "0  https://s3-media4.fl.yelpcdn.com/bphoto/kdMhe3...      False   \n",
       "1  https://s3-media2.fl.yelpcdn.com/bphoto/oL_zsp...      False   \n",
       "2  https://s3-media4.fl.yelpcdn.com/bphoto/QgkuwP...      False   \n",
       "3  https://s3-media1.fl.yelpcdn.com/bphoto/GWlrV3...      False   \n",
       "4  https://s3-media4.fl.yelpcdn.com/bphoto/tzL_b8...      False   \n",
       "\n",
       "                                                 url  review_count  \\\n",
       "0  https://www.yelp.com/biz/banana-blossom-thai-c...           293   \n",
       "1  https://www.yelp.com/biz/map-of-thailand-cleve...           293   \n",
       "2  https://www.yelp.com/biz/bangkok-thai-cuisine-...           446   \n",
       "3  https://www.yelp.com/biz/ty-fun-thai-bistro-cl...           218   \n",
       "4  https://www.yelp.com/biz/lotus-thai-house-parm...            94   \n",
       "\n",
       "                                          categories  rating  \\\n",
       "0               [{'alias': 'thai', 'title': 'Thai'}]     4.5   \n",
       "1               [{'alias': 'thai', 'title': 'Thai'}]     4.5   \n",
       "2  [{'alias': 'thai', 'title': 'Thai'}, {'alias':...     4.5   \n",
       "3               [{'alias': 'thai', 'title': 'Thai'}]     4.0   \n",
       "4               [{'alias': 'thai', 'title': 'Thai'}]     4.5   \n",
       "\n",
       "                                         coordinates        transactions  \\\n",
       "0     {'latitude': 41.48889, 'longitude': -81.70902}          [delivery]   \n",
       "1      {'latitude': 41.5095, 'longitude': -81.66247}          [delivery]   \n",
       "2   {'latitude': 41.520317, 'longitude': -81.486442}  [delivery, pickup]   \n",
       "3  {'latitude': 41.4794692993164, 'longitude': -8...  [pickup, delivery]   \n",
       "4     {'latitude': 41.40358, 'longitude': -81.68989}  [pickup, delivery]   \n",
       "\n",
       "  price                                           location         phone  \\\n",
       "0    $$  {'address1': '2800 Clinton Ave', 'address2': '...  +12166965529   \n",
       "1    $$  {'address1': '3710 Payne Ave', 'address2': 'St...  +12163612220   \n",
       "2    $$  {'address1': '5359 Mayfield Rd', 'address2': '...  +14406841982   \n",
       "3    $$  {'address1': '815 Jefferson Ave', 'address2': ...  +12166641000   \n",
       "4   NaN  {'address1': '5869 Broadview Rd', 'address2': ...  +12163719575   \n",
       "\n",
       "    display_phone      distance  \n",
       "0  (216) 696-5529   3509.349779  \n",
       "1  (216) 361-2220   4082.313627  \n",
       "2  (440) 684-1982  16335.738497  \n",
       "3  (216) 664-1000   1193.976211  \n",
       "4  (216) 371-9575   7899.057477  "
      ]
     },
     "metadata": {},
     "output_type": "display_data"
    },
    {
     "data": {
      "text/html": [
       "<div>\n",
       "<style scoped>\n",
       "    .dataframe tbody tr th:only-of-type {\n",
       "        vertical-align: middle;\n",
       "    }\n",
       "\n",
       "    .dataframe tbody tr th {\n",
       "        vertical-align: top;\n",
       "    }\n",
       "\n",
       "    .dataframe thead th {\n",
       "        text-align: right;\n",
       "    }\n",
       "</style>\n",
       "<table border=\"1\" class=\"dataframe\">\n",
       "  <thead>\n",
       "    <tr style=\"text-align: right;\">\n",
       "      <th></th>\n",
       "      <th>id</th>\n",
       "      <th>alias</th>\n",
       "      <th>name</th>\n",
       "      <th>image_url</th>\n",
       "      <th>is_closed</th>\n",
       "      <th>url</th>\n",
       "      <th>review_count</th>\n",
       "      <th>categories</th>\n",
       "      <th>rating</th>\n",
       "      <th>coordinates</th>\n",
       "      <th>transactions</th>\n",
       "      <th>price</th>\n",
       "      <th>location</th>\n",
       "      <th>phone</th>\n",
       "      <th>display_phone</th>\n",
       "      <th>distance</th>\n",
       "    </tr>\n",
       "  </thead>\n",
       "  <tbody>\n",
       "    <tr>\n",
       "      <th>212</th>\n",
       "      <td>mEx2NJBepbnVSjZG6MqwJA</td>\n",
       "      <td>panera-bread-westlake-2</td>\n",
       "      <td>Panera Bread</td>\n",
       "      <td>https://s3-media1.fl.yelpcdn.com/bphoto/4TBLB4...</td>\n",
       "      <td>False</td>\n",
       "      <td>https://www.yelp.com/biz/panera-bread-westlake...</td>\n",
       "      <td>53</td>\n",
       "      <td>[{'alias': 'sandwiches', 'title': 'Sandwiches'...</td>\n",
       "      <td>2.0</td>\n",
       "      <td>{'latitude': 41.46829, 'longitude': -81.90929}</td>\n",
       "      <td>[pickup, delivery]</td>\n",
       "      <td>$$</td>\n",
       "      <td>{'address1': '26137 Detroit Road', 'address2':...</td>\n",
       "      <td>+14408994944</td>\n",
       "      <td>(440) 899-4944</td>\n",
       "      <td>19746.927637</td>\n",
       "    </tr>\n",
       "    <tr>\n",
       "      <th>213</th>\n",
       "      <td>RYYzq9MFwXhrGSPeWtUwEA</td>\n",
       "      <td>zoup-mentor</td>\n",
       "      <td>Zoup!</td>\n",
       "      <td>https://s3-media1.fl.yelpcdn.com/bphoto/kVnPAi...</td>\n",
       "      <td>False</td>\n",
       "      <td>https://www.yelp.com/biz/zoup-mentor?adjust_cr...</td>\n",
       "      <td>35</td>\n",
       "      <td>[{'alias': 'salad', 'title': 'Salad'}, {'alias...</td>\n",
       "      <td>3.0</td>\n",
       "      <td>{'latitude': 41.6530789, 'longitude': -81.3799...</td>\n",
       "      <td>[pickup, delivery]</td>\n",
       "      <td>$</td>\n",
       "      <td>{'address1': '7327 Mentor Ave Points East Shop...</td>\n",
       "      <td>+14407014110</td>\n",
       "      <td>(440) 701-4110</td>\n",
       "      <td>31482.139419</td>\n",
       "    </tr>\n",
       "    <tr>\n",
       "      <th>214</th>\n",
       "      <td>Fkckopw1GL4cQzh9Buv6DA</td>\n",
       "      <td>panera-bread-north-olmsted</td>\n",
       "      <td>Panera Bread</td>\n",
       "      <td>https://s3-media2.fl.yelpcdn.com/bphoto/aPxgZ-...</td>\n",
       "      <td>False</td>\n",
       "      <td>https://www.yelp.com/biz/panera-bread-north-ol...</td>\n",
       "      <td>34</td>\n",
       "      <td>[{'alias': 'sandwiches', 'title': 'Sandwiches'...</td>\n",
       "      <td>2.5</td>\n",
       "      <td>{'latitude': 41.41836, 'longitude': -81.91169}</td>\n",
       "      <td>[pickup, delivery]</td>\n",
       "      <td>$</td>\n",
       "      <td>{'address1': '26086 Brookpark Road', 'address2...</td>\n",
       "      <td>+14408019023</td>\n",
       "      <td>(440) 801-9023</td>\n",
       "      <td>20862.824369</td>\n",
       "    </tr>\n",
       "    <tr>\n",
       "      <th>215</th>\n",
       "      <td>UrVTbcIAitKm2Z8J-uNREQ</td>\n",
       "      <td>panera-bread-brunswick</td>\n",
       "      <td>Panera Bread</td>\n",
       "      <td>https://s3-media1.fl.yelpcdn.com/bphoto/d7SMN3...</td>\n",
       "      <td>False</td>\n",
       "      <td>https://www.yelp.com/biz/panera-bread-brunswic...</td>\n",
       "      <td>36</td>\n",
       "      <td>[{'alias': 'salad', 'title': 'Salad'}, {'alias...</td>\n",
       "      <td>2.0</td>\n",
       "      <td>{'latitude': 41.2373089229639, 'longitude': -8...</td>\n",
       "      <td>[pickup, delivery]</td>\n",
       "      <td>$</td>\n",
       "      <td>{'address1': '1405 Parschen Blvd', 'address2':...</td>\n",
       "      <td>+13302204408</td>\n",
       "      <td>(330) 220-4408</td>\n",
       "      <td>28753.134727</td>\n",
       "    </tr>\n",
       "    <tr>\n",
       "      <th>216</th>\n",
       "      <td>ZkgijJ3jiVb1H9K26UhGdA</td>\n",
       "      <td>panera-bread-strongsville</td>\n",
       "      <td>Panera Bread</td>\n",
       "      <td>https://s3-media1.fl.yelpcdn.com/bphoto/papNkw...</td>\n",
       "      <td>False</td>\n",
       "      <td>https://www.yelp.com/biz/panera-bread-strongsv...</td>\n",
       "      <td>38</td>\n",
       "      <td>[{'alias': 'sandwiches', 'title': 'Sandwiches'...</td>\n",
       "      <td>2.5</td>\n",
       "      <td>{'latitude': 41.31479103099124, 'longitude': -...</td>\n",
       "      <td>[delivery]</td>\n",
       "      <td>$</td>\n",
       "      <td>{'address1': '17800 Royalton Rd', 'address2': ...</td>\n",
       "      <td>+14408460377</td>\n",
       "      <td>(440) 846-0377</td>\n",
       "      <td>21743.027824</td>\n",
       "    </tr>\n",
       "  </tbody>\n",
       "</table>\n",
       "</div>"
      ],
      "text/plain": [
       "                         id                       alias          name  \\\n",
       "212  mEx2NJBepbnVSjZG6MqwJA     panera-bread-westlake-2  Panera Bread   \n",
       "213  RYYzq9MFwXhrGSPeWtUwEA                 zoup-mentor         Zoup!   \n",
       "214  Fkckopw1GL4cQzh9Buv6DA  panera-bread-north-olmsted  Panera Bread   \n",
       "215  UrVTbcIAitKm2Z8J-uNREQ      panera-bread-brunswick  Panera Bread   \n",
       "216  ZkgijJ3jiVb1H9K26UhGdA   panera-bread-strongsville  Panera Bread   \n",
       "\n",
       "                                             image_url  is_closed  \\\n",
       "212  https://s3-media1.fl.yelpcdn.com/bphoto/4TBLB4...      False   \n",
       "213  https://s3-media1.fl.yelpcdn.com/bphoto/kVnPAi...      False   \n",
       "214  https://s3-media2.fl.yelpcdn.com/bphoto/aPxgZ-...      False   \n",
       "215  https://s3-media1.fl.yelpcdn.com/bphoto/d7SMN3...      False   \n",
       "216  https://s3-media1.fl.yelpcdn.com/bphoto/papNkw...      False   \n",
       "\n",
       "                                                   url  review_count  \\\n",
       "212  https://www.yelp.com/biz/panera-bread-westlake...            53   \n",
       "213  https://www.yelp.com/biz/zoup-mentor?adjust_cr...            35   \n",
       "214  https://www.yelp.com/biz/panera-bread-north-ol...            34   \n",
       "215  https://www.yelp.com/biz/panera-bread-brunswic...            36   \n",
       "216  https://www.yelp.com/biz/panera-bread-strongsv...            38   \n",
       "\n",
       "                                            categories  rating  \\\n",
       "212  [{'alias': 'sandwiches', 'title': 'Sandwiches'...     2.0   \n",
       "213  [{'alias': 'salad', 'title': 'Salad'}, {'alias...     3.0   \n",
       "214  [{'alias': 'sandwiches', 'title': 'Sandwiches'...     2.5   \n",
       "215  [{'alias': 'salad', 'title': 'Salad'}, {'alias...     2.0   \n",
       "216  [{'alias': 'sandwiches', 'title': 'Sandwiches'...     2.5   \n",
       "\n",
       "                                           coordinates        transactions  \\\n",
       "212     {'latitude': 41.46829, 'longitude': -81.90929}  [pickup, delivery]   \n",
       "213  {'latitude': 41.6530789, 'longitude': -81.3799...  [pickup, delivery]   \n",
       "214     {'latitude': 41.41836, 'longitude': -81.91169}  [pickup, delivery]   \n",
       "215  {'latitude': 41.2373089229639, 'longitude': -8...  [pickup, delivery]   \n",
       "216  {'latitude': 41.31479103099124, 'longitude': -...          [delivery]   \n",
       "\n",
       "    price                                           location         phone  \\\n",
       "212    $$  {'address1': '26137 Detroit Road', 'address2':...  +14408994944   \n",
       "213     $  {'address1': '7327 Mentor Ave Points East Shop...  +14407014110   \n",
       "214     $  {'address1': '26086 Brookpark Road', 'address2...  +14408019023   \n",
       "215     $  {'address1': '1405 Parschen Blvd', 'address2':...  +13302204408   \n",
       "216     $  {'address1': '17800 Royalton Rd', 'address2': ...  +14408460377   \n",
       "\n",
       "      display_phone      distance  \n",
       "212  (440) 899-4944  19746.927637  \n",
       "213  (440) 701-4110  31482.139419  \n",
       "214  (440) 801-9023  20862.824369  \n",
       "215  (330) 220-4408  28753.134727  \n",
       "216  (440) 846-0377  21743.027824  "
      ]
     },
     "metadata": {},
     "output_type": "display_data"
    }
   ],
   "source": [
    "# load final results\n",
    "final_df = pd.read_json(JSON_FILE)\n",
    "display(final_df.head(), final_df.tail())\n"
   ]
  },
  {
   "cell_type": "code",
   "execution_count": 19,
   "id": "4c777d5a-37e6-4b17-9f34-f222dc986500",
   "metadata": {},
   "outputs": [
    {
     "data": {
      "text/plain": [
       "0"
      ]
     },
     "execution_count": 19,
     "metadata": {},
     "output_type": "execute_result"
    }
   ],
   "source": [
    "## Drop duplicate ids and confirm there are no more duplicates\n",
    "final_df = final_df.drop_duplicates(subset='id')\n",
    "final_df.duplicated(subset='id').sum()\n"
   ]
  },
  {
   "cell_type": "code",
   "execution_count": 20,
   "id": "10bf1329-9586-42a7-aa45-6824a1d36ad6",
   "metadata": {},
   "outputs": [
    {
     "data": {
      "text/plain": [
       "0"
      ]
     },
     "execution_count": 20,
     "metadata": {},
     "output_type": "execute_result"
    }
   ],
   "source": [
    "# check for duplicate ID's \n",
    "final_df.duplicated(subset='id').sum()\n",
    "\n"
   ]
  },
  {
   "cell_type": "code",
   "execution_count": 21,
   "id": "313575b8-88c7-450f-bbd5-19fa7211fa55",
   "metadata": {},
   "outputs": [],
   "source": [
    "# save the final results to a compressed csv\n",
    "final_df.to_csv('Data/final_results_CLE_Thai.csv.gz', compression='gzip',index=False)\n",
    "\n"
   ]
  },
  {
   "cell_type": "code",
   "execution_count": null,
   "id": "01dec0fb-534b-4d7c-b203-ba3fa317339f",
   "metadata": {},
   "outputs": [],
   "source": []
  }
 ],
 "metadata": {
  "kernelspec": {
   "display_name": "Python (dojo-env)",
   "language": "python",
   "name": "dojo-env"
  },
  "language_info": {
   "codemirror_mode": {
    "name": "ipython",
    "version": 3
   },
   "file_extension": ".py",
   "mimetype": "text/x-python",
   "name": "python",
   "nbconvert_exporter": "python",
   "pygments_lexer": "ipython3",
   "version": "3.10.10"
  }
 },
 "nbformat": 4,
 "nbformat_minor": 5
}
